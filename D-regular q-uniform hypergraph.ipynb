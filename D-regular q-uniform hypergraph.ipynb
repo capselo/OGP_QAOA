{
 "cells": [
  {
   "cell_type": "markdown",
   "id": "2a79247c",
   "metadata": {},
   "source": [
    "# (D+1)-Regular q-Uniform hypergraphs"
   ]
  },
  {
   "cell_type": "markdown",
   "id": "039e2062",
   "metadata": {},
   "source": [
    "## we want to have approximately (D+1) hyperedges for each vertex and q vertices per hyperedge"
   ]
  },
  {
   "cell_type": "code",
   "execution_count": 1,
   "id": "c98d9327",
   "metadata": {},
   "outputs": [],
   "source": [
    "import numpy as np\n",
    "from copy import copy\n",
    "import timeit as timeit\n",
    "import matplotlib.pyplot as plt\n",
    "import plotly.graph_objects as go\n",
    "import csv\n",
    "\n",
    "n=40\n",
    "q=4\n",
    "d=10\n"
   ]
  },
  {
   "cell_type": "markdown",
   "id": "6744ea79",
   "metadata": {},
   "source": [
    "### Implementing configuration model"
   ]
  },
  {
   "cell_type": "code",
   "execution_count": 2,
   "id": "49312617",
   "metadata": {},
   "outputs": [
    {
     "name": "stdout",
     "output_type": "stream",
     "text": [
      "# edges (th): 100.0\n",
      "# edges (ac): 100\n"
     ]
    }
   ],
   "source": [
    "def gen_graph(v,p,k): #vertex, no. int spin, degree (k)\n",
    "    dic = {}\n",
    "    for i in range(n): #count how many more hyperedges are needed for each vertex\n",
    "        dic[f\"{i}\"]=d\n",
    "    edges = []\n",
    "    for i in range(int(v/2)): #for each vertex\n",
    "        counter=0\n",
    "        while dic[f\"{i}\"]>0: #while current vertex has degree<d\n",
    "            edge = {i,}     #create hyperedge with i \n",
    "            if counter >100:#if fail to get hyperedge\n",
    "                break\n",
    "            while len(edge)<p:  #while hyperedge has less than q vertices\n",
    "                x=np.random.randint(i+1,high=n)   #get random vertex from i+1 to n\n",
    "                if dic[f\"{x}\"]>0:  #check if vertex still is under degree 2\n",
    "                    if x not in edge:\n",
    "                        edge.add(x)\n",
    "                        dic[f\"{x}\"]-=1\n",
    "                counter +=1\n",
    "                if counter >100:#if fail to get hyperedge after 1000 iteration, skip\n",
    "                    for j in edge:#re-add number back to dictionary\n",
    "                        if j != i:\n",
    "                            dic[f\"{j}\"]+=1\n",
    "                    break\n",
    "            if len(edge)== p:#if hyperedge is valid\n",
    "                edges+=[edge]\n",
    "                dic[f\"{i}\"]-=1 #minus from current vertex\n",
    "                counter=0\n",
    "            if counter >100:#if fail to get hyperedge\n",
    "                break\n",
    "    return edges,dic\n",
    "def leftovers(v,dic): #find vertices that have degree < d\n",
    "    left =[]\n",
    "    for i in range(v): #for each vertex\n",
    "        if dic[f\"{i}\"]>0:\n",
    "            left+=[i,]\n",
    "    return left\n",
    "\n",
    "def fingraph(V,HE,p,k,dic): #input vertices and current set of hyperedges, p int spin, and degree k\n",
    "    #finishes an incomplete regular graph if it's possible\n",
    "    lvert=leftovers(V,dic)  #vertices that are leftover (i.e. less than degree k)\n",
    "    n = len(HE)       #number of hyperedges left\n",
    "    for i in range(n):\n",
    "        counter=0\n",
    "        if lvert==[]:   #if all vertices have degree k\n",
    "            break\n",
    "        x=np.random.choice(lvert)  #choose a random vertex in list\n",
    "        edge ={x}\n",
    "        dic[f\"{x}\"]-=1\n",
    "        if dic[f\"{x}\"]==0:   #if after adding hyperedge, this vertex has degree k\n",
    "            lvert.remove(x)\n",
    "        if len(lvert)<(p-1):     #if list of vertex is less than enough to form hyperedge\n",
    "            break\n",
    "        while len(edge)<p:      #while hyperedge does not have p vertices\n",
    "            x=np.random.choice(lvert)   #choose random vertex\n",
    "            counter +=1\n",
    "            if x not in edge:     #if vertex not already in edge\n",
    "                edge.add(x)\n",
    "                dic[f\"{x}\"]-=1\n",
    "                if dic[f\"{x}\"]==0:\n",
    "                    lvert.remove(x)\n",
    "            if counter >100:\n",
    "                break\n",
    "        HE+=[edge]\n",
    "    return HE\n",
    "\n",
    "def truegraph(v,p,k):#generate the random regular graph using above codes\n",
    "    theory = v*k/p\n",
    "    temp=[]\n",
    "    while len(temp)<int(theory):\n",
    "        temp,dic=gen_graph(v,p,k)\n",
    "        temp=fingraph(v,temp,p,k,dic)\n",
    "    return temp\n",
    "\n",
    "def lstedges(HE): #convert set of edges into a sorted list via highest vertex number\n",
    "    lst=[]\n",
    "    for edge in HE:\n",
    "        temp = list(edge)\n",
    "        temp.sort()\n",
    "        lst += [temp]\n",
    "    lst= sorted(lst,key=lambda x: x[-1])\n",
    "    return lst\n",
    "\n",
    "edges = lstedges(truegraph(n,q,d))\n",
    "print(\"# edges (th):\", n*d/q)            \n",
    "print(\"# edges (ac):\", len(edges))\n"
   ]
  },
  {
   "cell_type": "markdown",
   "id": "db90037b",
   "metadata": {},
   "source": [
    "## Implementing the Hamiltonian/ cost function"
   ]
  },
  {
   "cell_type": "code",
   "execution_count": 3,
   "id": "dadfb41a",
   "metadata": {},
   "outputs": [],
   "source": [
    "def coup(HE): #list of hyperedges\n",
    "    temp = []\n",
    "    binary = [-1,1]\n",
    "    for i in range(len(HE)):\n",
    "        temp+=[np.random.choice(binary)]\n",
    "    return temp\n",
    "\n",
    "Js=coup(edges) \n",
    "\n",
    "def cost(V,HE,J): #input bitstring, hyperedges, couplings\n",
    "    count = 0\n",
    "    for i in range(len(HE)):\n",
    "        temp = J[i]\n",
    "        edge = HE[i]\n",
    "        for z in edge:\n",
    "            temp*= V[z]\n",
    "        temp+=1\n",
    "        count+= 0.5*(temp)\n",
    "    return count\n",
    "        "
   ]
  },
  {
   "cell_type": "markdown",
   "id": "3422e8be",
   "metadata": {},
   "source": [
    "## Define branch and bound algorithm to find e-optimal solutions"
   ]
  },
  {
   "cell_type": "code",
   "execution_count": 4,
   "id": "43654bab",
   "metadata": {},
   "outputs": [],
   "source": [
    "def branch(bit):\n",
    "    return np.append(bit,[1]),np.append(bit,[-1])\n",
    "\n",
    "def qbound(bit,HE,J,sat):\n",
    "    global n\n",
    "    x = len(bit)\n",
    "    value = sat\n",
    "    for i in range(len(HE)):\n",
    "        temp = J[i]\n",
    "        edge = HE[i]\n",
    "        if edge[-1]>=x:\n",
    "            break\n",
    "        elif edge[-1]==(x-1):\n",
    "            for z in edge:\n",
    "                temp*= bit[z]\n",
    "            temp += 1\n",
    "            value +=0.5*(temp)\n",
    "            value -=1\n",
    "    return value\n",
    "\n",
    "def Dist(v):\n",
    "    n=len(v)\n",
    "    temp=[1 for i in range(n)]\n",
    "    return((np.dot(temp,v)/n +1)/2)\n",
    "\n",
    "def qspin_opt(bit,HE,J,sat,threshold):\n",
    "    global xdata,ydata,strings,n\n",
    "    if qbound(bit,HE,J,sat)/len(HE)>threshold:\n",
    "        if len(bit)== n:\n",
    "            strings +=[bit]\n",
    "            xdata+=[Dist(bit)]\n",
    "            ydata+=[qbound(bit,HE,J,sat)/len(HE)]\n",
    "        else:\n",
    "            bit1,bit2 = branch(bit)\n",
    "            qspin_opt(bit1,HE,J,qbound(bit,HE,J,sat),threshold)\n",
    "            qspin_opt(bit2,HE,J,qbound(bit,HE,J,sat),threshold)\n"
   ]
  },
  {
   "cell_type": "code",
   "execution_count": null,
   "id": "46da9f87",
   "metadata": {},
   "outputs": [],
   "source": [
    "xdata,ydata,strings = [],[],[]\n",
    "\n",
    "start = timeit.default_timer()\n",
    "qspin_opt([],edges,Js,n*d/q,0.8)\n",
    "print(\"The difference of time is :\", \n",
    "               (timeit.default_timer() - start)/(60*60*24),\"days\")\n"
   ]
  },
  {
   "cell_type": "code",
   "execution_count": 6,
   "id": "8d179dab",
   "metadata": {},
   "outputs": [
    {
     "data": {
      "text/plain": [
       "<matplotlib.collections.PathCollection at 0x7f03509df850>"
      ]
     },
     "execution_count": 6,
     "metadata": {},
     "output_type": "execute_result"
    },
    {
     "data": {
      "image/png": "[encoded data removed]",
      "text/plain": [
       "<Figure size 640x480 with 1 Axes>"
      ]
     },
     "metadata": {},
     "output_type": "display_data"
    }
   ],
   "source": [
    "plt.scatter(xdata,ydata)"
   ]
  },
  {
   "cell_type": "code",
   "execution_count": 7,
   "id": "7e094e22",
   "metadata": {},
   "outputs": [],
   "source": [
    "# f = open('n36d10.csv','w')\n",
    "# writer = csv.writer(f)\n",
    "# header = ['bit','overlap', 'Cost']\n",
    "# writer.writerow(header)\n",
    "# for i in range(len(xdata)):\n",
    "#     writer.writerow([strings[i],xdata[i],ydata[i]])\n",
    "# f.close()\n",
    "\n",
    "\n",
    "# f = open('H_n30_d6.csv','w')\n",
    "# writer = csv.writer(f)\n",
    "# header = ['HE','J']\n",
    "# writer.writerow(header)\n",
    "# for i in range(len(edges)):\n",
    "#     writer.writerow([edges[i],Js[i]])\n",
    "# f.close()\n",
    "\n",
    "# plt.scatter(xdata,ydata)"
   ]
  },
  {
   "cell_type": "markdown",
   "id": "07785b9f",
   "metadata": {},
   "source": [
    "## Define function to get only e-optimal solution"
   ]
  },
  {
   "cell_type": "code",
   "execution_count": 19,
   "id": "193f2deb",
   "metadata": {},
   "outputs": [],
   "source": [
    "def eopt(databit,datay,value):\n",
    "    temp = []\n",
    "    x=max(datay)\n",
    "    for i in range(len(datay)):\n",
    "        if datay[i]>=value*x:\n",
    "            temp+=[databit[i]]\n",
    "    return temp"
   ]
  },
  {
   "cell_type": "code",
   "execution_count": 25,
   "id": "105b758b",
   "metadata": {},
   "outputs": [
    {
     "name": "stdout",
     "output_type": "stream",
     "text": [
      "8\n"
     ]
    }
   ],
   "source": [
    "A=eopt(strings,ydata,0.9)\n",
    "print(len(A))"
   ]
  },
  {
   "cell_type": "markdown",
   "id": "c07168c8",
   "metadata": {},
   "source": [
    "## define function to calculate overlap over all e-optimal solution"
   ]
  },
  {
   "cell_type": "code",
   "execution_count": 26,
   "id": "fbcaa677",
   "metadata": {},
   "outputs": [],
   "source": [
    "def Ham(s,t):\n",
    "    n=len(s)\n",
    "    return(1-np.abs(np.dot(s,t)/n))\n",
    "\n",
    "def OGP(data):\n",
    "    C=set()\n",
    "    for i in range(len(data)):\n",
    "        for j in range(i+1,len(data)):\n",
    "            C.add(Ham(data[i],data[j]))\n",
    "    C=list(C)\n",
    "    C+=[0]\n",
    "    C.sort()\n",
    "    return C\n"
   ]
  },
  {
   "cell_type": "code",
   "execution_count": 27,
   "id": "8f3e18c9",
   "metadata": {
    "scrolled": true
   },
   "outputs": [
    {
     "data": {
      "application/vnd.plotly.v1+json": {
       "config": {
        "plotlyServerURL": "https://plot.ly"
       },
       "data": [
        {
         "marker": {
          "size": 18
         },
         "mode": "markers",
         "type": "scatter",
         "x": [
          0,
          0,
          0.050000000000000044,
          0.09999999999999998,
          0.75,
          0.8,
          0.85
         ],
         "y": [
          0,
          0,
          0,
          0,
          0,
          0,
          0
         ]
        }
       ],
       "layout": {
        "height": 200,
        "plot_bgcolor": "white",
        "template": {
         "data": {
          "bar": [
           {
            "error_x": {
             "color": "#2a3f5f"
            },
            "error_y": {
             "color": "#2a3f5f"
            },
            "marker": {
             "line": {
              "color": "#E5ECF6",
              "width": 0.5
             },
             "pattern": {
              "fillmode": "overlay",
              "size": 10,
              "solidity": 0.2
             }
            },
            "type": "bar"
           }
          ],
          "barpolar": [
           {
            "marker": {
             "line": {
              "color": "#E5ECF6",
              "width": 0.5
             },
             "pattern": {
              "fillmode": "overlay",
              "size": 10,
              "solidity": 0.2
             }
            },
            "type": "barpolar"
           }
          ],
          "carpet": [
           {
            "aaxis": {
             "endlinecolor": "#2a3f5f",
             "gridcolor": "white",
             "linecolor": "white",
             "minorgridcolor": "white",
             "startlinecolor": "#2a3f5f"
            },
            "baxis": {
             "endlinecolor": "#2a3f5f",
             "gridcolor": "white",
             "linecolor": "white",
             "minorgridcolor": "white",
             "startlinecolor": "#2a3f5f"
            },
            "type": "carpet"
           }
          ],
          "choropleth": [
           {
            "colorbar": {
             "outlinewidth": 0,
             "ticks": ""
            },
            "type": "choropleth"
           }
          ],
          "contour": [
           {
            "colorbar": {
             "outlinewidth": 0,
             "ticks": ""
            },
            "colorscale": [
             [
              0,
              "#0d0887"
             ],
             [
              0.1111111111111111,
              "#46039f"
             ],
             [
              0.2222222222222222,
              "#7201a8"
             ],
             [
              0.3333333333333333,
              "#9c179e"
             ],
             [
              0.4444444444444444,
              "#bd3786"
             ],
             [
              0.5555555555555556,
              "#d8576b"
             ],
             [
              0.6666666666666666,
              "#ed7953"
             ],
             [
              0.7777777777777778,
              "#fb9f3a"
             ],
             [
              0.8888888888888888,
              "#fdca26"
             ],
             [
              1,
              "#f0f921"
             ]
            ],
            "type": "contour"
           }
          ],
          "contourcarpet": [
           {
            "colorbar": {
             "outlinewidth": 0,
             "ticks": ""
            },
            "type": "contourcarpet"
           }
          ],
          "heatmap": [
           {
            "colorbar": {
             "outlinewidth": 0,
             "ticks": ""
            },
            "colorscale": [
             [
              0,
              "#0d0887"
             ],
             [
              0.1111111111111111,
              "#46039f"
             ],
             [
              0.2222222222222222,
              "#7201a8"
             ],
             [
              0.3333333333333333,
              "#9c179e"
             ],
             [
              0.4444444444444444,
              "#bd3786"
             ],
             [
              0.5555555555555556,
              "#d8576b"
             ],
             [
              0.6666666666666666,
              "#ed7953"
             ],
             [
              0.7777777777777778,
              "#fb9f3a"
             ],
             [
              0.8888888888888888,
              "#fdca26"
             ],
             [
              1,
              "#f0f921"
             ]
            ],
            "type": "heatmap"
           }
          ],
          "heatmapgl": [
           {
            "colorbar": {
             "outlinewidth": 0,
             "ticks": ""
            },
            "colorscale": [
             [
              0,
              "#0d0887"
             ],
             [
              0.1111111111111111,
              "#46039f"
             ],
             [
              0.2222222222222222,
              "#7201a8"
             ],
             [
              0.3333333333333333,
              "#9c179e"
             ],
             [
              0.4444444444444444,
              "#bd3786"
             ],
             [
              0.5555555555555556,
              "#d8576b"
             ],
             [
              0.6666666666666666,
              "#ed7953"
             ],
             [
              0.7777777777777778,
              "#fb9f3a"
             ],
             [
              0.8888888888888888,
              "#fdca26"
             ],
             [
              1,
              "#f0f921"
             ]
            ],
            "type": "heatmapgl"
           }
          ],
          "histogram": [
           {
            "marker": {
             "pattern": {
              "fillmode": "overlay",
              "size": 10,
              "solidity": 0.2
             }
            },
            "type": "histogram"
           }
          ],
          "histogram2d": [
           {
            "colorbar": {
             "outlinewidth": 0,
             "ticks": ""
            },
            "colorscale": [
             [
              0,
              "#0d0887"
             ],
             [
              0.1111111111111111,
              "#46039f"
             ],
             [
              0.2222222222222222,
              "#7201a8"
             ],
             [
              0.3333333333333333,
              "#9c179e"
             ],
             [
              0.4444444444444444,
              "#bd3786"
             ],
             [
              0.5555555555555556,
              "#d8576b"
             ],
             [
              0.6666666666666666,
              "#ed7953"
             ],
             [
              0.7777777777777778,
              "#fb9f3a"
             ],
             [
              0.8888888888888888,
              "#fdca26"
             ],
             [
              1,
              "#f0f921"
             ]
            ],
            "type": "histogram2d"
           }
          ],
          "histogram2dcontour": [
           {
            "colorbar": {
             "outlinewidth": 0,
             "ticks": ""
            },
            "colorscale": [
             [
              0,
              "#0d0887"
             ],
             [
              0.1111111111111111,
              "#46039f"
             ],
             [
              0.2222222222222222,
              "#7201a8"
             ],
             [
              0.3333333333333333,
              "#9c179e"
             ],
             [
              0.4444444444444444,
              "#bd3786"
             ],
             [
              0.5555555555555556,
              "#d8576b"
             ],
             [
              0.6666666666666666,
              "#ed7953"
             ],
             [
              0.7777777777777778,
              "#fb9f3a"
             ],
             [
              0.8888888888888888,
              "#fdca26"
             ],
             [
              1,
              "#f0f921"
             ]
            ],
            "type": "histogram2dcontour"
           }
          ],
          "mesh3d": [
           {
            "colorbar": {
             "outlinewidth": 0,
             "ticks": ""
            },
            "type": "mesh3d"
           }
          ],
          "parcoords": [
           {
            "line": {
             "colorbar": {
              "outlinewidth": 0,
              "ticks": ""
             }
            },
            "type": "parcoords"
           }
          ],
          "pie": [
           {
            "automargin": true,
            "type": "pie"
           }
          ],
          "scatter": [
           {
            "fillpattern": {
             "fillmode": "overlay",
             "size": 10,
             "solidity": 0.2
            },
            "type": "scatter"
           }
          ],
          "scatter3d": [
           {
            "line": {
             "colorbar": {
              "outlinewidth": 0,
              "ticks": ""
             }
            },
            "marker": {
             "colorbar": {
              "outlinewidth": 0,
              "ticks": ""
             }
            },
            "type": "scatter3d"
           }
          ],
          "scattercarpet": [
           {
            "marker": {
             "colorbar": {
              "outlinewidth": 0,
              "ticks": ""
             }
            },
            "type": "scattercarpet"
           }
          ],
          "scattergeo": [
           {
            "marker": {
             "colorbar": {
              "outlinewidth": 0,
              "ticks": ""
             }
            },
            "type": "scattergeo"
           }
          ],
          "scattergl": [
           {
            "marker": {
             "colorbar": {
              "outlinewidth": 0,
              "ticks": ""
             }
            },
            "type": "scattergl"
           }
          ],
          "scattermapbox": [
           {
            "marker": {
             "colorbar": {
              "outlinewidth": 0,
              "ticks": ""
             }
            },
            "type": "scattermapbox"
           }
          ],
          "scatterpolar": [
           {
            "marker": {
             "colorbar": {
              "outlinewidth": 0,
              "ticks": ""
             }
            },
            "type": "scatterpolar"
           }
          ],
          "scatterpolargl": [
           {
            "marker": {
             "colorbar": {
              "outlinewidth": 0,
              "ticks": ""
             }
            },
            "type": "scatterpolargl"
           }
          ],
          "scatterternary": [
           {
            "marker": {
             "colorbar": {
              "outlinewidth": 0,
              "ticks": ""
             }
            },
            "type": "scatterternary"
           }
          ],
          "surface": [
           {
            "colorbar": {
             "outlinewidth": 0,
             "ticks": ""
            },
            "colorscale": [
             [
              0,
              "#0d0887"
             ],
             [
              0.1111111111111111,
              "#46039f"
             ],
             [
              0.2222222222222222,
              "#7201a8"
             ],
             [
              0.3333333333333333,
              "#9c179e"
             ],
             [
              0.4444444444444444,
              "#bd3786"
             ],
             [
              0.5555555555555556,
              "#d8576b"
             ],
             [
              0.6666666666666666,
              "#ed7953"
             ],
             [
              0.7777777777777778,
              "#fb9f3a"
             ],
             [
              0.8888888888888888,
              "#fdca26"
             ],
             [
              1,
              "#f0f921"
             ]
            ],
            "type": "surface"
           }
          ],
          "table": [
           {
            "cells": {
             "fill": {
              "color": "#EBF0F8"
             },
             "line": {
              "color": "white"
             }
            },
            "header": {
             "fill": {
              "color": "#C8D4E3"
             },
             "line": {
              "color": "white"
             }
            },
            "type": "table"
           }
          ]
         },
         "layout": {
          "annotationdefaults": {
           "arrowcolor": "#2a3f5f",
           "arrowhead": 0,
           "arrowwidth": 1
          },
          "autotypenumbers": "strict",
          "coloraxis": {
           "colorbar": {
            "outlinewidth": 0,
            "ticks": ""
           }
          },
          "colorscale": {
           "diverging": [
            [
             0,
             "#8e0152"
            ],
            [
             0.1,
             "#c51b7d"
            ],
            [
             0.2,
             "#de77ae"
            ],
            [
             0.3,
             "#f1b6da"
            ],
            [
             0.4,
             "#fde0ef"
            ],
            [
             0.5,
             "#f7f7f7"
            ],
            [
             0.6,
             "#e6f5d0"
            ],
            [
             0.7,
             "#b8e186"
            ],
            [
             0.8,
             "#7fbc41"
            ],
            [
             0.9,
             "#4d9221"
            ],
            [
             1,
             "#276419"
            ]
           ],
           "sequential": [
            [
             0,
             "#0d0887"
            ],
            [
             0.1111111111111111,
             "#46039f"
            ],
            [
             0.2222222222222222,
             "#7201a8"
            ],
            [
             0.3333333333333333,
             "#9c179e"
            ],
            [
             0.4444444444444444,
             "#bd3786"
            ],
            [
             0.5555555555555556,
             "#d8576b"
            ],
            [
             0.6666666666666666,
             "#ed7953"
            ],
            [
             0.7777777777777778,
             "#fb9f3a"
            ],
            [
             0.8888888888888888,
             "#fdca26"
            ],
            [
             1,
             "#f0f921"
            ]
           ],
           "sequentialminus": [
            [
             0,
             "#0d0887"
            ],
            [
             0.1111111111111111,
             "#46039f"
            ],
            [
             0.2222222222222222,
             "#7201a8"
            ],
            [
             0.3333333333333333,
             "#9c179e"
            ],
            [
             0.4444444444444444,
             "#bd3786"
            ],
            [
             0.5555555555555556,
             "#d8576b"
            ],
            [
             0.6666666666666666,
             "#ed7953"
            ],
            [
             0.7777777777777778,
             "#fb9f3a"
            ],
            [
             0.8888888888888888,
             "#fdca26"
            ],
            [
             1,
             "#f0f921"
            ]
           ]
          },
          "colorway": [
           "#636efa",
           "#EF553B",
           "#00cc96",
           "#ab63fa",
           "#FFA15A",
           "#19d3f3",
           "#FF6692",
           "#B6E880",
           "#FF97FF",
           "#FECB52"
          ],
          "font": {
           "color": "#2a3f5f"
          },
          "geo": {
           "bgcolor": "white",
           "lakecolor": "white",
           "landcolor": "#E5ECF6",
           "showlakes": true,
           "showland": true,
           "subunitcolor": "white"
          },
          "hoverlabel": {
           "align": "left"
          },
          "hovermode": "closest",
          "mapbox": {
           "style": "light"
          },
          "paper_bgcolor": "white",
          "plot_bgcolor": "#E5ECF6",
          "polar": {
           "angularaxis": {
            "gridcolor": "white",
            "linecolor": "white",
            "ticks": ""
           },
           "bgcolor": "#E5ECF6",
           "radialaxis": {
            "gridcolor": "white",
            "linecolor": "white",
            "ticks": ""
           }
          },
          "scene": {
           "xaxis": {
            "backgroundcolor": "#E5ECF6",
            "gridcolor": "white",
            "gridwidth": 2,
            "linecolor": "white",
            "showbackground": true,
            "ticks": "",
            "zerolinecolor": "white"
           },
           "yaxis": {
            "backgroundcolor": "#E5ECF6",
            "gridcolor": "white",
            "gridwidth": 2,
            "linecolor": "white",
            "showbackground": true,
            "ticks": "",
            "zerolinecolor": "white"
           },
           "zaxis": {
            "backgroundcolor": "#E5ECF6",
            "gridcolor": "white",
            "gridwidth": 2,
            "linecolor": "white",
            "showbackground": true,
            "ticks": "",
            "zerolinecolor": "white"
           }
          },
          "shapedefaults": {
           "line": {
            "color": "#2a3f5f"
           }
          },
          "ternary": {
           "aaxis": {
            "gridcolor": "white",
            "linecolor": "white",
            "ticks": ""
           },
           "baxis": {
            "gridcolor": "white",
            "linecolor": "white",
            "ticks": ""
           },
           "bgcolor": "#E5ECF6",
           "caxis": {
            "gridcolor": "white",
            "linecolor": "white",
            "ticks": ""
           }
          },
          "title": {
           "x": 0.05
          },
          "xaxis": {
           "automargin": true,
           "gridcolor": "white",
           "linecolor": "white",
           "ticks": "",
           "title": {
            "standoff": 15
           },
           "zerolinecolor": "white",
           "zerolinewidth": 2
          },
          "yaxis": {
           "automargin": true,
           "gridcolor": "white",
           "linecolor": "white",
           "ticks": "",
           "title": {
            "standoff": 15
           },
           "zerolinecolor": "white",
           "zerolinewidth": 2
          }
         }
        },
        "xaxis": {
         "showgrid": false
        },
        "yaxis": {
         "showgrid": false,
         "showticklabels": false,
         "zeroline": true,
         "zerolinecolor": "black",
         "zerolinewidth": 3
        }
       }
      },
      "text/html": [
       "<div>                            <div id=\"739a2b88-98ef-4060-aeeb-2b427f05b8fe\" class=\"plotly-graph-div\" style=\"height:200px; width:100%;\"></div>            <script type=\"text/javascript\">                require([\"plotly\"], function(Plotly) {                    window.PLOTLYENV=window.PLOTLYENV || {};                                    if (document.getElementById(\"739a2b88-98ef-4060-aeeb-2b427f05b8fe\")) {                    Plotly.newPlot(                        \"739a2b88-98ef-4060-aeeb-2b427f05b8fe\",                        [{\"marker\":{\"size\":18},\"mode\":\"markers\",\"x\":[0.0,0,0.050000000000000044,0.09999999999999998,0.75,0.8,0.85],\"y\":[0,0,0,0,0,0,0],\"type\":\"scatter\"}],                        {\"template\":{\"data\":{\"histogram2dcontour\":[{\"type\":\"histogram2dcontour\",\"colorbar\":{\"outlinewidth\":0,\"ticks\":\"\"},\"colorscale\":[[0.0,\"#0d0887\"],[0.1111111111111111,\"#46039f\"],[0.2222222222222222,\"#7201a8\"],[0.3333333333333333,\"#9c179e\"],[0.4444444444444444,\"#bd3786\"],[0.5555555555555556,\"#d8576b\"],[0.6666666666666666,\"#ed7953\"],[0.7777777777777778,\"#fb9f3a\"],[0.8888888888888888,\"#fdca26\"],[1.0,\"#f0f921\"]]}],\"choropleth\":[{\"type\":\"choropleth\",\"colorbar\":{\"outlinewidth\":0,\"ticks\":\"\"}}],\"histogram2d\":[{\"type\":\"histogram2d\",\"colorbar\":{\"outlinewidth\":0,\"ticks\":\"\"},\"colorscale\":[[0.0,\"#0d0887\"],[0.1111111111111111,\"#46039f\"],[0.2222222222222222,\"#7201a8\"],[0.3333333333333333,\"#9c179e\"],[0.4444444444444444,\"#bd3786\"],[0.5555555555555556,\"#d8576b\"],[0.6666666666666666,\"#ed7953\"],[0.7777777777777778,\"#fb9f3a\"],[0.8888888888888888,\"#fdca26\"],[1.0,\"#f0f921\"]]}],\"heatmap\":[{\"type\":\"heatmap\",\"colorbar\":{\"outlinewidth\":0,\"ticks\":\"\"},\"colorscale\":[[0.0,\"#0d0887\"],[0.1111111111111111,\"#46039f\"],[0.2222222222222222,\"#7201a8\"],[0.3333333333333333,\"#9c179e\"],[0.4444444444444444,\"#bd3786\"],[0.5555555555555556,\"#d8576b\"],[0.6666666666666666,\"#ed7953\"],[0.7777777777777778,\"#fb9f3a\"],[0.8888888888888888,\"#fdca26\"],[1.0,\"#f0f921\"]]}],\"heatmapgl\":[{\"type\":\"heatmapgl\",\"colorbar\":{\"outlinewidth\":0,\"ticks\":\"\"},\"colorscale\":[[0.0,\"#0d0887\"],[0.1111111111111111,\"#46039f\"],[0.2222222222222222,\"#7201a8\"],[0.3333333333333333,\"#9c179e\"],[0.4444444444444444,\"#bd3786\"],[0.5555555555555556,\"#d8576b\"],[0.6666666666666666,\"#ed7953\"],[0.7777777777777778,\"#fb9f3a\"],[0.8888888888888888,\"#fdca26\"],[1.0,\"#f0f921\"]]}],\"contourcarpet\":[{\"type\":\"contourcarpet\",\"colorbar\":{\"outlinewidth\":0,\"ticks\":\"\"}}],\"contour\":[{\"type\":\"contour\",\"colorbar\":{\"outlinewidth\":0,\"ticks\":\"\"},\"colorscale\":[[0.0,\"#0d0887\"],[0.1111111111111111,\"#46039f\"],[0.2222222222222222,\"#7201a8\"],[0.3333333333333333,\"#9c179e\"],[0.4444444444444444,\"#bd3786\"],[0.5555555555555556,\"#d8576b\"],[0.6666666666666666,\"#ed7953\"],[0.7777777777777778,\"#fb9f3a\"],[0.8888888888888888,\"#fdca26\"],[1.0,\"#f0f921\"]]}],\"surface\":[{\"type\":\"surface\",\"colorbar\":{\"outlinewidth\":0,\"ticks\":\"\"},\"colorscale\":[[0.0,\"#0d0887\"],[0.1111111111111111,\"#46039f\"],[0.2222222222222222,\"#7201a8\"],[0.3333333333333333,\"#9c179e\"],[0.4444444444444444,\"#bd3786\"],[0.5555555555555556,\"#d8576b\"],[0.6666666666666666,\"#ed7953\"],[0.7777777777777778,\"#fb9f3a\"],[0.8888888888888888,\"#fdca26\"],[1.0,\"#f0f921\"]]}],\"mesh3d\":[{\"type\":\"mesh3d\",\"colorbar\":{\"outlinewidth\":0,\"ticks\":\"\"}}],\"scatter\":[{\"fillpattern\":{\"fillmode\":\"overlay\",\"size\":10,\"solidity\":0.2},\"type\":\"scatter\"}],\"parcoords\":[{\"type\":\"parcoords\",\"line\":{\"colorbar\":{\"outlinewidth\":0,\"ticks\":\"\"}}}],\"scatterpolargl\":[{\"type\":\"scatterpolargl\",\"marker\":{\"colorbar\":{\"outlinewidth\":0,\"ticks\":\"\"}}}],\"bar\":[{\"error_x\":{\"color\":\"#2a3f5f\"},\"error_y\":{\"color\":\"#2a3f5f\"},\"marker\":{\"line\":{\"color\":\"#E5ECF6\",\"width\":0.5},\"pattern\":{\"fillmode\":\"overlay\",\"size\":10,\"solidity\":0.2}},\"type\":\"bar\"}],\"scattergeo\":[{\"type\":\"scattergeo\",\"marker\":{\"colorbar\":{\"outlinewidth\":0,\"ticks\":\"\"}}}],\"scatterpolar\":[{\"type\":\"scatterpolar\",\"marker\":{\"colorbar\":{\"outlinewidth\":0,\"ticks\":\"\"}}}],\"histogram\":[{\"marker\":{\"pattern\":{\"fillmode\":\"overlay\",\"size\":10,\"solidity\":0.2}},\"type\":\"histogram\"}],\"scattergl\":[{\"type\":\"scattergl\",\"marker\":{\"colorbar\":{\"outlinewidth\":0,\"ticks\":\"\"}}}],\"scatter3d\":[{\"type\":\"scatter3d\",\"line\":{\"colorbar\":{\"outlinewidth\":0,\"ticks\":\"\"}},\"marker\":{\"colorbar\":{\"outlinewidth\":0,\"ticks\":\"\"}}}],\"scattermapbox\":[{\"type\":\"scattermapbox\",\"marker\":{\"colorbar\":{\"outlinewidth\":0,\"ticks\":\"\"}}}],\"scatterternary\":[{\"type\":\"scatterternary\",\"marker\":{\"colorbar\":{\"outlinewidth\":0,\"ticks\":\"\"}}}],\"scattercarpet\":[{\"type\":\"scattercarpet\",\"marker\":{\"colorbar\":{\"outlinewidth\":0,\"ticks\":\"\"}}}],\"carpet\":[{\"aaxis\":{\"endlinecolor\":\"#2a3f5f\",\"gridcolor\":\"white\",\"linecolor\":\"white\",\"minorgridcolor\":\"white\",\"startlinecolor\":\"#2a3f5f\"},\"baxis\":{\"endlinecolor\":\"#2a3f5f\",\"gridcolor\":\"white\",\"linecolor\":\"white\",\"minorgridcolor\":\"white\",\"startlinecolor\":\"#2a3f5f\"},\"type\":\"carpet\"}],\"table\":[{\"cells\":{\"fill\":{\"color\":\"#EBF0F8\"},\"line\":{\"color\":\"white\"}},\"header\":{\"fill\":{\"color\":\"#C8D4E3\"},\"line\":{\"color\":\"white\"}},\"type\":\"table\"}],\"barpolar\":[{\"marker\":{\"line\":{\"color\":\"#E5ECF6\",\"width\":0.5},\"pattern\":{\"fillmode\":\"overlay\",\"size\":10,\"solidity\":0.2}},\"type\":\"barpolar\"}],\"pie\":[{\"automargin\":true,\"type\":\"pie\"}]},\"layout\":{\"autotypenumbers\":\"strict\",\"colorway\":[\"#636efa\",\"#EF553B\",\"#00cc96\",\"#ab63fa\",\"#FFA15A\",\"#19d3f3\",\"#FF6692\",\"#B6E880\",\"#FF97FF\",\"#FECB52\"],\"font\":{\"color\":\"#2a3f5f\"},\"hovermode\":\"closest\",\"hoverlabel\":{\"align\":\"left\"},\"paper_bgcolor\":\"white\",\"plot_bgcolor\":\"#E5ECF6\",\"polar\":{\"bgcolor\":\"#E5ECF6\",\"angularaxis\":{\"gridcolor\":\"white\",\"linecolor\":\"white\",\"ticks\":\"\"},\"radialaxis\":{\"gridcolor\":\"white\",\"linecolor\":\"white\",\"ticks\":\"\"}},\"ternary\":{\"bgcolor\":\"#E5ECF6\",\"aaxis\":{\"gridcolor\":\"white\",\"linecolor\":\"white\",\"ticks\":\"\"},\"baxis\":{\"gridcolor\":\"white\",\"linecolor\":\"white\",\"ticks\":\"\"},\"caxis\":{\"gridcolor\":\"white\",\"linecolor\":\"white\",\"ticks\":\"\"}},\"coloraxis\":{\"colorbar\":{\"outlinewidth\":0,\"ticks\":\"\"}},\"colorscale\":{\"sequential\":[[0.0,\"#0d0887\"],[0.1111111111111111,\"#46039f\"],[0.2222222222222222,\"#7201a8\"],[0.3333333333333333,\"#9c179e\"],[0.4444444444444444,\"#bd3786\"],[0.5555555555555556,\"#d8576b\"],[0.6666666666666666,\"#ed7953\"],[0.7777777777777778,\"#fb9f3a\"],[0.8888888888888888,\"#fdca26\"],[1.0,\"#f0f921\"]],\"sequentialminus\":[[0.0,\"#0d0887\"],[0.1111111111111111,\"#46039f\"],[0.2222222222222222,\"#7201a8\"],[0.3333333333333333,\"#9c179e\"],[0.4444444444444444,\"#bd3786\"],[0.5555555555555556,\"#d8576b\"],[0.6666666666666666,\"#ed7953\"],[0.7777777777777778,\"#fb9f3a\"],[0.8888888888888888,\"#fdca26\"],[1.0,\"#f0f921\"]],\"diverging\":[[0,\"#8e0152\"],[0.1,\"#c51b7d\"],[0.2,\"#de77ae\"],[0.3,\"#f1b6da\"],[0.4,\"#fde0ef\"],[0.5,\"#f7f7f7\"],[0.6,\"#e6f5d0\"],[0.7,\"#b8e186\"],[0.8,\"#7fbc41\"],[0.9,\"#4d9221\"],[1,\"#276419\"]]},\"xaxis\":{\"gridcolor\":\"white\",\"linecolor\":\"white\",\"ticks\":\"\",\"title\":{\"standoff\":15},\"zerolinecolor\":\"white\",\"automargin\":true,\"zerolinewidth\":2},\"yaxis\":{\"gridcolor\":\"white\",\"linecolor\":\"white\",\"ticks\":\"\",\"title\":{\"standoff\":15},\"zerolinecolor\":\"white\",\"automargin\":true,\"zerolinewidth\":2},\"scene\":{\"xaxis\":{\"backgroundcolor\":\"#E5ECF6\",\"gridcolor\":\"white\",\"linecolor\":\"white\",\"showbackground\":true,\"ticks\":\"\",\"zerolinecolor\":\"white\",\"gridwidth\":2},\"yaxis\":{\"backgroundcolor\":\"#E5ECF6\",\"gridcolor\":\"white\",\"linecolor\":\"white\",\"showbackground\":true,\"ticks\":\"\",\"zerolinecolor\":\"white\",\"gridwidth\":2},\"zaxis\":{\"backgroundcolor\":\"#E5ECF6\",\"gridcolor\":\"white\",\"linecolor\":\"white\",\"showbackground\":true,\"ticks\":\"\",\"zerolinecolor\":\"white\",\"gridwidth\":2}},\"shapedefaults\":{\"line\":{\"color\":\"#2a3f5f\"}},\"annotationdefaults\":{\"arrowcolor\":\"#2a3f5f\",\"arrowhead\":0,\"arrowwidth\":1},\"geo\":{\"bgcolor\":\"white\",\"landcolor\":\"#E5ECF6\",\"subunitcolor\":\"white\",\"showland\":true,\"showlakes\":true,\"lakecolor\":\"white\"},\"title\":{\"x\":0.05},\"mapbox\":{\"style\":\"light\"}}},\"xaxis\":{\"showgrid\":false},\"yaxis\":{\"showgrid\":false,\"zeroline\":true,\"zerolinecolor\":\"black\",\"zerolinewidth\":3,\"showticklabels\":false},\"height\":200,\"plot_bgcolor\":\"white\"},                        {\"responsive\": true}                    ).then(function(){\n",
       "                            \n",
       "var gd = document.getElementById('739a2b88-98ef-4060-aeeb-2b427f05b8fe');\n",
       "var x = new MutationObserver(function (mutations, observer) {{\n",
       "        var display = window.getComputedStyle(gd).display;\n",
       "        if (!display || display === 'none') {{\n",
       "            console.log([gd, 'removed!']);\n",
       "            Plotly.purge(gd);\n",
       "            observer.disconnect();\n",
       "        }}\n",
       "}});\n",
       "\n",
       "// Listen for the removal of the full notebook cells\n",
       "var notebookContainer = gd.closest('#notebook-container');\n",
       "if (notebookContainer) {{\n",
       "    x.observe(notebookContainer, {childList: true});\n",
       "}}\n",
       "\n",
       "// Listen for the clearing of the current output cell\n",
       "var outputEl = gd.closest('.output');\n",
       "if (outputEl) {{\n",
       "    x.observe(outputEl, {childList: true});\n",
       "}}\n",
       "\n",
       "                        })                };                });            </script>        </div>"
      ]
     },
     "metadata": {},
     "output_type": "display_data"
    }
   ],
   "source": [
    "C=OGP(A)\n",
    "D=[]\n",
    "for i in C:\n",
    "    D+=[0]\n",
    "    \n",
    "fig = go.Figure()\n",
    "fig.add_trace(go.Scatter(\n",
    "    x=C, y=D, mode='markers', marker_size=18,\n",
    "))\n",
    "fig.update_xaxes(showgrid=False)\n",
    "fig.update_yaxes(showgrid=False, \n",
    "                 zeroline=True, zerolinecolor='black', zerolinewidth=3,\n",
    "                 showticklabels=False)\n",
    "fig.update_layout(height=200, plot_bgcolor='white')"
   ]
  },
  {
   "cell_type": "markdown",
   "id": "c811ddd4",
   "metadata": {},
   "source": [
    "# Numerical results for SK Model and OGP\n",
    "\n",
    "## repeat the same time but for the SK model"
   ]
  },
  {
   "cell_type": "code",
   "execution_count": 13,
   "id": "e296e169",
   "metadata": {},
   "outputs": [],
   "source": [
    "def Hclassic(k):\n",
    "    temp =np.zeros( (k, k) ) #create (n,n) matrix\n",
    "    for i in range(0,k-1):\n",
    "        for j in range(i+1,k):\n",
    "            temp[i][j]=np.random.normal(0, 1)/np.sqrt(n) #insert random coupling strength\n",
    "    return temp\n",
    "\n",
    "\n",
    "def costhsk(V,H): #input bitstring, Hamiltonian\n",
    "    return np.matmul(np.matmul(V,H),V)\n",
    "\n",
    "def branch(bit):\n",
    "    return np.append(bit,[1]),np.append(bit,[-1])\n",
    "\n",
    "def boundhsk(bit,H):\n",
    "    x = len(bit)\n",
    "    temp = bit.copy()\n",
    "    lst = [0 for i in range(x)]\n",
    "    if x == len(H):\n",
    "        return costhsk(bit,H)\n",
    "    while x<len(H):\n",
    "        temp = np.append(temp,[0])\n",
    "        lst=np.append(lst,[1])\n",
    "        x+= 1\n",
    "    value = costhsk(temp,H)\n",
    "    value += np.matmul(np.abs(np.matmul(temp,H)),lst)\n",
    "    value += np.matmul(np.abs(np.matmul(lst,np.abs(H))),lst)\n",
    "    return value\n",
    "\n",
    "def getstrings(bit,H,threshold):\n",
    "    global tempx,tempy,lst\n",
    "    if (boundhsk(bit,H)/len(H))>threshold:\n",
    "        if len(bit)==len(H):\n",
    "            if (costhsk(bit,H)/len(H))> threshold:\n",
    "                lst +=[bit]\n",
    "                tempx+=[Dist(bit)]\n",
    "                tempy+=[costhsk(bit,H)/len(H)]\n",
    "        else:\n",
    "            bit1,bit2=branch(bit)\n",
    "            getstrings(bit1,H,threshold)\n",
    "            getstrings(bit2,H,threshold)\n",
    "    return(\"done\")\n",
    "    "
   ]
  },
  {
   "cell_type": "code",
   "execution_count": 14,
   "id": "80da50d4",
   "metadata": {},
   "outputs": [],
   "source": [
    "m=45\n",
    "HSK = Hclassic(m)\n",
    "boundhsk([1],HSK)/m"
   ]
  },
  {
   "cell_type": "code",
   "execution_count": 15,
   "id": "72009e5e",
   "metadata": {},
   "outputs": [],
   "source": [
    "tempx=[]\n",
    "tempy=[]\n",
    "lst= []\n",
    "start = timeit.default_timer()\n",
    "getstrings([1],HSK,0.7)\n",
    "print(\"The difference of time is :\", \n",
    "                (timeit.default_timer() - start)/(60),\"min\")"
   ]
  },
  {
   "cell_type": "code",
   "execution_count": 16,
   "id": "b541a0d7",
   "metadata": {},
   "outputs": [],
   "source": [
    "plt.scatter(tempx,tempy)"
   ]
  },
  {
   "cell_type": "code",
   "execution_count": 17,
   "id": "6b557081",
   "metadata": {},
   "outputs": [],
   "source": [
    "len(tempy)"
   ]
  },
  {
   "cell_type": "code",
   "execution_count": 18,
   "id": "a46bdd0f",
   "metadata": {},
   "outputs": [],
   "source": [
    "A=eopt(lst,tempy,0.97)\n",
    "C=OGP(A)\n",
    "D=[]\n",
    "for i in C:\n",
    "    D+=[0]\n",
    "    \n",
    "fig = go.Figure()\n",
    "fig.add_trace(go.Scatter(\n",
    "    x=C, y=D, mode='markers', marker_size=18,\n",
    "))\n",
    "fig.update_xaxes(showgrid=False)\n",
    "fig.update_yaxes(showgrid=False, \n",
    "                 zeroline=True, zerolinecolor='black', zerolinewidth=3,\n",
    "                 showticklabels=False)\n",
    "fig.update_layout(height=200, plot_bgcolor='white')"
   ]
  },
  {
   "cell_type": "code",
   "execution_count": null,
   "id": "2db41047",
   "metadata": {},
   "outputs": [],
   "source": []
  }
 ],
 "metadata": {
  "kernelspec": {
   "display_name": "Python 3 (ipykernel)",
   "language": "python",
   "name": "python3"
  },
  "language_info": {
   "codemirror_mode": {
    "name": "ipython",
    "version": 3
   },
   "file_extension": ".py",
   "mimetype": "text/x-python",
   "name": "python",
   "nbconvert_exporter": "python",
   "pygments_lexer": "ipython3",
   "version": "3.10.9"
  }
 },
 "nbformat": 4,
 "nbformat_minor": 5
}
